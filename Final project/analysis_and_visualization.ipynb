# Import necessary libraries
import networkx as nx
import matplotlib.pyplot as plt
import pickle

# Load the graph using pickle
with open("city_graph.gpickle", "rb") as f:
    G = pickle.load(f)

# Check the graph
print(f"Number of nodes: {G.number_of_nodes()}")
print(f"Number of edges: {G.number_of_edges()}")

# Set the starting city as london
start_city = 'london'

# List to track visited cities in order
visited_cities = [start_city]

# Function to simulate traveling east
def travel_east(start_city, G):
    current_city = start_city
    total_time = 0
    while True:
        # Get neighbors sorted by travel time (ascending)
        neighbors = sorted(G[current_city], key=lambda x: G[current_city][x]['weight'])
        
        # Travel to the nearest city (always traveling east)
        next_city = neighbors[0]
        travel_time = G[current_city][next_city]['weight']
        total_time += travel_time
        
        # Add the city to visited cities
        visited_cities.append(next_city)
        
        # If we return to london, stop the loop
        if next_city == start_city:
            break
        current_city = next_city

    return total_time, visited_cities

# Run the travel simulation
total_travel_time, visited_cities = travel_east(start_city, G)

# Output results
print(f"Total travel time to return to London: {total_travel_time} hours")
print(f"Cities visited in order: {visited_cities}")


# Check if it is possible to return within 80 days (80 * 24 hours)
max_time_in_hours = 80 * 24
if total_travel_time <= max_time_in_hours:
    print("It is possible to travel around the world and return to London within 80 days.")
else:
    print("It is not possible to travel around the world and return to London within 80 days.")

# Visualize the travel time distribution
plt.hist([G[current_city][neighbor]['weight'] for current_city in visited_cities for neighbor in G[current_city]], bins=10)
plt.title("Travel Time Distribution")
plt.xlabel("Travel Time (hours)")
plt.ylabel("Frequency")
plt.show()
