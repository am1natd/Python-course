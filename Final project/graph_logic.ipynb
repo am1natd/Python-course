{
 "cells": [
  {
   "cell_type": "code",
   "execution_count": 76,
   "metadata": {},
   "outputs": [],
   "source": [
    "# Import necessary libraries\n",
    "import pandas as pd\n",
    "import numpy as np\n",
    "import networkx as nx"
   ]
  },
  {
   "cell_type": "code",
   "execution_count": 77,
   "metadata": {},
   "outputs": [
    {
     "name": "stdout",
     "output_type": "stream",
     "text": [
      "  Country              City        AccentCity Region  Population   Latitude  \\\n",
      "0      ad  andorra la vella  Andorra la Vella     07     20430.0  42.500000   \n",
      "1      ad           canillo           Canillo     02      3292.0  42.566667   \n",
      "2      ad            encamp            Encamp     03     11224.0  42.533333   \n",
      "3      ad        la massana        La Massana     04      7211.0  42.550000   \n",
      "4      ad      les escaldes      Les Escaldes     08     15854.0  42.500000   \n",
      "\n",
      "   Longitude  \n",
      "0   1.516667  \n",
      "1   1.600000  \n",
      "2   1.583333  \n",
      "3   1.516667  \n",
      "4   1.533333  \n"
     ]
    }
   ],
   "source": [
    "# Load the cleaned dataset\n",
    "file_path = \"cleaned_cities.csv\"\n",
    "df = pd.read_csv(file_path)\n",
    "\n",
    "# View the first few rows of the dataset\n",
    "print(df.head())"
   ]
  },
  {
   "cell_type": "code",
   "execution_count": 78,
   "metadata": {},
   "outputs": [
    {
     "name": "stdout",
     "output_type": "stream",
     "text": [
      "Available cities: ['andorra la vella' 'canillo' 'encamp' ... 'shurugwi' 'victoria falls'\n",
      " 'zvishavane']\n"
     ]
    }
   ],
   "source": [
    "# Print list of available cities\n",
    "print(\"Available cities:\", df[\"City\"].unique())"
   ]
  },
  {
   "cell_type": "code",
   "execution_count": 79,
   "metadata": {},
   "outputs": [
    {
     "name": "stdout",
     "output_type": "stream",
     "text": [
      "Number of nodes in the graph: 43182\n"
     ]
    }
   ],
   "source": [
    "# Create a graph using NetworkX\n",
    "G = nx.Graph()\n",
    "\n",
    "# Add cities as nodes to the graph\n",
    "for _, row in df.iterrows():\n",
    "    G.add_node(row[\"City\"], \n",
    "               lat=row[\"Latitude\"], \n",
    "               lon=row[\"Longitude\"], \n",
    "               population=row[\"Population\"], \n",
    "               country=row[\"Country\"])\n",
    "\n",
    "# Print the number of nodes in the graph\n",
    "print(f\"Number of nodes in the graph: {G.number_of_nodes()}\")\n"
   ]
  },
  {
   "cell_type": "code",
   "execution_count": null,
   "metadata": {},
   "outputs": [],
   "source": [
    "# Function to calculate travel time\n",
    "def calculate_travel_time(city1, city2, G):\n",
    "    \"\"\"\n",
    "    Calculate the travel time between two cities.\n",
    "    \"\"\"\n",
    "    data1, data2 = G.nodes[city1], G.nodes[city2]\n",
    "    \n",
    "    # Base travel time based on proximity\n",
    "    distance = np.sqrt((data1[\"lat\"] - data2[\"lat\"])**2 + (data1[\"lon\"] - data2[\"lon\"])**2)\n",
    "    base_time = 2 if distance < 1 else 4 if distance < 3 else 8\n",
    "    \n",
    "    # Additional conditions\n",
    "    extra_time = 0\n",
    "    if data1[\"country\"] != data2[\"country\"]:\n",
    "        extra_time += 2\n",
    "    if data2[\"population\"] > 200000:\n",
    "        extra_time += 2\n",
    "    \n",
    "    return base_time + extra_time\n"
   ]
  },
  {
   "cell_type": "code",
   "execution_count": 81,
   "metadata": {},
   "outputs": [
    {
     "name": "stdout",
     "output_type": "stream",
     "text": [
      "Travel time from london to moscow: 10 hours\n"
     ]
    }
   ],
   "source": [
    "city1 = \"london\"\n",
    "city2 = \"moscow\"\n",
    "\n",
    "# Calculate and print the travel time between the two cities\n",
    "travel_time = calculate_travel_time(city1, city2, G)\n",
    "print(f\"Travel time from {city1} to {city2}: {travel_time} hours\")\n"
   ]
  },
  {
   "cell_type": "code",
   "execution_count": null,
   "metadata": {},
   "outputs": [
    {
     "name": "stdout",
     "output_type": "stream",
     "text": [
      "Number of edges in the graph: 82874\n"
     ]
    }
   ],
   "source": [
    "from scipy.spatial import KDTree\n",
    "import numpy as np\n",
    "\n",
    "# Extract coordinates and build KDTree\n",
    "coords = np.array([(G.nodes[city][\"lat\"], G.nodes[city][\"lon\"]) for city in G.nodes])\n",
    "city_names = list(G.nodes)\n",
    "tree = KDTree(coords)\n",
    "\n",
    "# Add edges using KDTree\n",
    "for i, city1 in enumerate(city_names):\n",
    "    distances, indices = tree.query(coords[i], k=4)  # Find 3 nearest neighbors\n",
    "    for j in range(1, 4):  # Skip the city itself (index 0)\n",
    "        city2 = city_names[indices[j]]\n",
    "        travel_time = calculate_travel_time(city1, city2, G)\n",
    "        G.add_edge(city1, city2, weight=travel_time)\n",
    "\n",
    "# Print the number of edges in the graph\n",
    "print(f\"Number of edges in the graph: {G.number_of_edges()}\")\n"
   ]
  },
  {
   "cell_type": "code",
   "execution_count": 83,
   "metadata": {},
   "outputs": [
    {
     "name": "stdout",
     "output_type": "stream",
     "text": [
      "Graph saved to 'city_graph.gpickle'.\n"
     ]
    }
   ],
   "source": [
    "import pickle\n",
    "\n",
    "# Save graph\n",
    "with open(\"city_graph.gpickle\", \"wb\") as f:\n",
    "    pickle.dump(G, f)\n",
    "\n",
    "print(\"Graph saved to 'city_graph.gpickle'.\")\n"
   ]
  },
  {
   "cell_type": "code",
   "execution_count": 84,
   "metadata": {},
   "outputs": [
    {
     "name": "stdout",
     "output_type": "stream",
     "text": [
      "Number of nodes: 43182\n",
      "Number of edges: 82874\n",
      "Nodes: ['andorra la vella', 'canillo', 'encamp', 'la massana', 'les escaldes', 'ordino', 'sant julia de loria', 'abu dhabi', 'dubai', 'sharjah']\n",
      "Edges: [('andorra la vella', 'les escaldes', {'weight': 2}), ('andorra la vella', 'sant julia de loria', {'weight': 2}), ('andorra la vella', 'la massana', {'weight': 2}), ('andorra la vella', 'ordino', {'weight': 2}), ('canillo', 'encamp', {'weight': 2}), ('canillo', 'ordino', {'weight': 2}), ('canillo', 'la massana', {'weight': 2}), ('canillo', 'foix', {'weight': 4}), ('encamp', 'ordino', {'weight': 2}), ('encamp', 'les escaldes', {'weight': 2})]\n"
     ]
    }
   ],
   "source": [
    "# Load the graph\n",
    "with open(\"city_graph.gpickle\", \"rb\") as f:\n",
    "    G = pickle.load(f)\n",
    "\n",
    "# Check the graph\n",
    "print(f\"Number of nodes: {G.number_of_nodes()}\")\n",
    "print(f\"Number of edges: {G.number_of_edges()}\")\n",
    "print(\"Nodes:\", list(G.nodes)[:10])  # Print first 10 nodes\n",
    "print(\"Edges:\", list(G.edges(data=True))[:10])  # Print first 10 edges with weights\n"
   ]
  }
 ],
 "metadata": {
  "kernelspec": {
   "display_name": "base",
   "language": "python",
   "name": "python3"
  },
  "language_info": {
   "codemirror_mode": {
    "name": "ipython",
    "version": 3
   },
   "file_extension": ".py",
   "mimetype": "text/x-python",
   "name": "python",
   "nbconvert_exporter": "python",
   "pygments_lexer": "ipython3",
   "version": "3.12.4"
  }
 },
 "nbformat": 4,
 "nbformat_minor": 2
}
